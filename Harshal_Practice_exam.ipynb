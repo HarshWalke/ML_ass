{
 "cells": [
  {
   "cell_type": "code",
   "execution_count": null,
   "metadata": {},
   "outputs": [],
   "source": []
  },
  {
   "cell_type": "code",
   "execution_count": 5,
   "metadata": {},
   "outputs": [],
   "source": [
    "import pandas as pd \n",
    "import numpy as np \n",
    "import matplotlib.pyplot as plt\n",
    "import re"
   ]
  },
  {
   "cell_type": "code",
   "execution_count": 2,
   "metadata": {},
   "outputs": [
    {
     "name": "stdout",
     "output_type": "stream",
     "text": [
      "6\n",
      "Weird\n"
     ]
    }
   ],
   "source": [
    "#Q 1    \n",
    "i = int(input())\n",
    "    \n",
    "if (i%2) == 1:\n",
    "        print(\"weird\")\n",
    "else:\n",
    "    if (2 <= i <= 5):\n",
    "        print(\"Not Weird\")\n",
    "    elif (6 <= i <= 20):\n",
    "        print(\"Weird\")\n",
    "    elif (i > 20):\n",
    "        print(\"Not Weird\")"
   ]
  },
  {
   "cell_type": "code",
   "execution_count": 3,
   "metadata": {},
   "outputs": [
    {
     "name": "stdout",
     "output_type": "stream",
     "text": [
      "0\n",
      "1\n",
      "4\n"
     ]
    }
   ],
   "source": [
    "#Q 2\n",
    "n = 3\n",
    "for i in range(n):\n",
    "    print(i*i)"
   ]
  },
  {
   "cell_type": "code",
   "execution_count": null,
   "metadata": {},
   "outputs": [],
   "source": [
    "#Q 3\n",
    "if __name__ == '__main__':\n",
    "    x = int(input())\n",
    "    y = int(input())\n",
    "    z = int(input())\n",
    "    n = int(input())\n",
    "    \n",
    "    ls = [[i,j,k] for i in range(x+1) for j in range(y+1) for k in range(z+1) if i+j+k != n]\n",
    "    print(ls)"
   ]
  },
  {
   "cell_type": "code",
   "execution_count": 72,
   "metadata": {},
   "outputs": [
    {
     "name": "stdout",
     "output_type": "stream",
     "text": [
      "2\n"
     ]
    }
   ],
   "source": [
    "#Q4\n",
    "Score=[2,3,6,6,5]\n",
    "random=list(set(Score))\n",
    "sorted_score=sorted(random,reverse=True)\n",
    "runner=sorted_score[3]\n",
    "print(runner)"
   ]
  },
  {
   "cell_type": "code",
   "execution_count": null,
   "metadata": {},
   "outputs": [],
   "source": [
    "#Q5\n",
    "marks = {'alpha': [20, 30, 40], 'beta': [30, 50, 70]}\n",
    "name = input(\"Enter the student name: \")\n",
    "if name in marks:\n",
    "    average = sum(marks[name]) / len(marks[name])\n",
    "    print(f\"The average marks of {name} are {average:.2f}\")\n",
    "else:\n",
    "    print(f\"There is no student with the name {name}\")\n"
   ]
  },
  {
   "cell_type": "code",
   "execution_count": 38,
   "metadata": {},
   "outputs": [
    {
     "name": "stdout",
     "output_type": "stream",
     "text": [
      "dRAgONfRuIT\n"
     ]
    }
   ],
   "source": [
    "#Q 6\n",
    "string=\"DraGonFrUit\"\n",
    "swap=string.swapcase()\n",
    "print(swap)"
   ]
  },
  {
   "cell_type": "code",
   "execution_count": 26,
   "metadata": {},
   "outputs": [
    {
     "name": "stdout",
     "output_type": "stream",
     "text": [
      "This-is-a-apple-/The-color-is-red\n"
     ]
    }
   ],
   "source": [
    "#Q 7\n",
    "string= 'This is a apple /The color is red'\n",
    "a = \"-\".join(string.split())\n",
    "print(a)"
   ]
  },
  {
   "cell_type": "code",
   "execution_count": null,
   "metadata": {},
   "outputs": [],
   "source": [
    "#Q 8\n",
    "s='This is apple'\n",
    "t='fruit'\n",
    "count=s.count(t)\n",
    "print(count)"
   ]
  },
  {
   "cell_type": "code",
   "execution_count": 42,
   "metadata": {},
   "outputs": [
    {
     "name": "stdout",
     "output_type": "stream",
     "text": [
      "True\n",
      "False\n",
      "False\n",
      "False\n",
      "False\n"
     ]
    }
   ],
   "source": [
    "#Q 9\n",
    "H=\"HARSHwalke6747\"\n",
    "print(H.isalnum())\n",
    "print(H.isalpha())\n",
    "print(H.isdigit())\n",
    "print(H.islower())\n",
    "print(H.isupper())"
   ]
  },
  {
   "cell_type": "code",
   "execution_count": 48,
   "metadata": {},
   "outputs": [
    {
     "data": {
      "text/plain": [
       "re.compile(r'ab*', re.UNICODE)"
      ]
     },
     "execution_count": 48,
     "metadata": {},
     "output_type": "execute_result"
    }
   ],
   "source": [
    "#Q 11\n",
    "type=re.compile(r'ab*')\n",
    "type"
   ]
  },
  {
   "cell_type": "code",
   "execution_count": 49,
   "metadata": {},
   "outputs": [
    {
     "data": {
      "text/plain": [
       "re.compile(r'ab+', re.UNICODE)"
      ]
     },
     "execution_count": 49,
     "metadata": {},
     "output_type": "execute_result"
    }
   ],
   "source": [
    "#Q 12\n",
    "type=re.compile(r'ab+')\n",
    "type"
   ]
  },
  {
   "cell_type": "code",
   "execution_count": 50,
   "metadata": {},
   "outputs": [
    {
     "data": {
      "text/plain": [
       "re.compile(r'ab{3}', re.UNICODE)"
      ]
     },
     "execution_count": 50,
     "metadata": {},
     "output_type": "execute_result"
    }
   ],
   "source": [
    "#Q 13\n",
    "type=re.compile(r'ab{3}')\n",
    "type"
   ]
  },
  {
   "cell_type": "code",
   "execution_count": 51,
   "metadata": {},
   "outputs": [
    {
     "data": {
      "text/plain": [
       "re.compile(r'ab{2,3}', re.UNICODE)"
      ]
     },
     "execution_count": 51,
     "metadata": {},
     "output_type": "execute_result"
    }
   ],
   "source": [
    "#Q 14\n",
    "type=re.compile(r'ab{2,3}')\n",
    "type"
   ]
  },
  {
   "cell_type": "code",
   "execution_count": 54,
   "metadata": {},
   "outputs": [
    {
     "name": "stdout",
     "output_type": "stream",
     "text": [
      "['first_sequence', 'better_sequence']\n"
     ]
    }
   ],
   "source": [
    "#Q 15\n",
    "df=\"first_sequence_better_sequence\"\n",
    "pattern=re.compile(r'[a-z]+_[a-z]+')\n",
    "matches=pattern.findall(df)\n",
    "print(matches)"
   ]
  },
  {
   "cell_type": "code",
   "execution_count": 57,
   "metadata": {},
   "outputs": [
    {
     "name": "stdout",
     "output_type": "stream",
     "text": [
      "['First', 'Second']\n"
     ]
    }
   ],
   "source": [
    "#Q16\n",
    "s=\"First_sequence_Second_sequence\"\n",
    "pattern=re.compile(r'[A-Z][a-z]+')\n",
    "matches=pattern.findall(s)\n",
    "print(matches)"
   ]
  },
  {
   "cell_type": "code",
   "execution_count": 68,
   "metadata": {},
   "outputs": [
    {
     "name": "stdout",
     "output_type": "stream",
     "text": [
      "True\n"
     ]
    }
   ],
   "source": [
    "#Q17\n",
    "H=\"sxxxxxt\"\n",
    "pattern=re.compile(r's.*t$')\n",
    "matches=pattern.match(H)\n",
    "print(bool(matches))"
   ]
  },
  {
   "cell_type": "code",
   "execution_count": 63,
   "metadata": {},
   "outputs": [
    {
     "name": "stdout",
     "output_type": "stream",
     "text": [
      "True\n"
     ]
    }
   ],
   "source": [
    "#Q18\n",
    "H=\"sentence start with the\"\n",
    "pattern=re.compile(r'^word')\n",
    "matches=pattern.match(H)\n",
    "print(bool(matches))"
   ]
  },
  {
   "cell_type": "code",
   "execution_count": null,
   "metadata": {},
   "outputs": [],
   "source": []
  },
  {
   "cell_type": "code",
   "execution_count": 69,
   "metadata": {},
   "outputs": [
    {
     "name": "stdout",
     "output_type": "stream",
     "text": [
      "True\n"
     ]
    }
   ],
   "source": [
    "#Q18\n",
    "H=\"sentence end with the\"\n",
    "pattern=re.compile(r'the[.,]*$')\n",
    "matches=pattern.search(H)\n",
    "print(bool(matches))"
   ]
  },
  {
   "cell_type": "code",
   "execution_count": 90,
   "metadata": {},
   "outputs": [
    {
     "name": "stdout",
     "output_type": "stream",
     "text": [
      "world!\n"
     ]
    }
   ],
   "source": [
    "#Q 19\n",
    "import re\n",
    "\n",
    "def match_word_end(text):\n",
    "    pattern = r\"\\w+[,.?!]?$\"\n",
    "    match = re.search(pattern, text)\n",
    "    if match:\n",
    "        return match.group()\n",
    "    else:\n",
    "        return None\n",
    "print(match_word_end(\"Hello, world!\")) "
   ]
  },
  {
   "cell_type": "code",
   "execution_count": null,
   "metadata": {},
   "outputs": [],
   "source": [
    "#Q 20\n",
    "import re\n",
    "\n",
    "def match_z(text):\n",
    "    pattern = r'\\b[^zZ]\\w*z\\w*[^zZ]\\b'\n",
    "    matches = re.findall(pattern, text)\n",
    "    return matches\n",
    "\n",
    "# Test the function with some examples\n",
    "text1 = \"Python Exerci\n",
    "ses in zigzag.\"\n",
    "print(match_z(text1)) "
   ]
  },
  {
   "cell_type": "code",
   "execution_count": 89,
   "metadata": {},
   "outputs": [
    {
     "name": "stdout",
     "output_type": "stream",
     "text": [
      "True\n"
     ]
    }
   ],
   "source": [
    "#Q 21\n",
    "import re\n",
    "\n",
    "def starts_with_number(text, num):\n",
    "    pattern = r\"^\" + str(num)\n",
    "    return bool(re.match(pattern, text))\n",
    "text1 = \"42 is the answer to everything.\"\n",
    "print(starts_with_number(text1, 42)) # True\n"
   ]
  },
  {
   "cell_type": "code",
   "execution_count": 88,
   "metadata": {},
   "outputs": [
    {
     "name": "stdout",
     "output_type": "stream",
     "text": [
      "True\n"
     ]
    }
   ],
   "source": [
    "# Q22\n",
    "import re\n",
    "\n",
    "def ends_with_number(text):\n",
    "    pattern = r'\\d+$'\n",
    "    return bool(re.search(pattern, text))\n",
    "\n",
    "text1 = \"The answer is 42\"\n",
    "\n",
    "print(ends_with_number(text1))\n"
   ]
  },
  {
   "cell_type": "code",
   "execution_count": 87,
   "metadata": {},
   "outputs": [
    {
     "name": "stdout",
     "output_type": "stream",
     "text": [
      "['1', '12', '13', '345']\n"
     ]
    }
   ],
   "source": [
    "#Q 23\n",
    "import re\n",
    "\n",
    "def find_numbers(text):\n",
    "    pattern = r'\\b\\d{1,3}\\b'\n",
    "    matches = re.findall(pattern, text)\n",
    "    return matches\n",
    "text1 = \"Exercises number 1, 12, 13, and 345 are important\"\n",
    "print(find_numbers(text1))"
   ]
  },
  {
   "cell_type": "code",
   "execution_count": 86,
   "metadata": {},
   "outputs": [
    {
     "name": "stdout",
     "output_type": "stream",
     "text": [
      "Searching for \"fox\" in \"The quick brown fox jumps over the lazy dog.\" -> Matched!\n",
      "Searching for \"dog\" in \"The quick brown fox jumps over the lazy dog.\" -> Matched!\n",
      "Searching for \"horse\" in \"The quick brown fox jumps over the lazy dog.\" -> Not Matched!\n"
     ]
    }
   ],
   "source": [
    "#Q 24\n",
    "import re\n",
    "\n",
    "def search_literals(text, words):\n",
    "    for word in words:\n",
    "        print('Searching for \"%s\" in \"%s\" ->' % (word, text), end=' ')\n",
    "        if re.search(word, text):\n",
    "            print('Matched!')\n",
    "        else:\n",
    "            print('Not Matched!')\n",
    "text = 'The quick brown fox jumps over the lazy dog.'\n",
    "words = ['fox', 'dog', 'horse']\n",
    "search_literals(text, words)"
   ]
  },
  {
   "cell_type": "code",
   "execution_count": 85,
   "metadata": {},
   "outputs": [
    {
     "name": "stdout",
     "output_type": "stream",
     "text": [
      "Searching for \"fox\" in \"The quick brown fox jumps over the lazy dog.\" -> Found at 16 to 19\n"
     ]
    }
   ],
   "source": [
    "#Q 25\n",
    "import re\n",
    "\n",
    "def search_literal(text, word):\n",
    "    print('Searching for \"%s\" in \"%s\" ->' % (word, text), end=' ')\n",
    "    match = re.search(word, text)\n",
    "    if match:\n",
    "        s = match.start()\n",
    "        e = match.end()\n",
    "        print('Found at %d to %d' % (s, e))\n",
    "    else:\n",
    "        print('Not found')\n",
    "text = 'The quick brown fox jumps over the lazy dog.'\n",
    "word = 'fox'\n",
    "search_literal(text, word)"
   ]
  },
  {
   "cell_type": "code",
   "execution_count": 84,
   "metadata": {},
   "outputs": [
    {
     "name": "stdout",
     "output_type": "stream",
     "text": [
      "['exercises', 'exercises', 'exercises']\n"
     ]
    }
   ],
   "source": [
    "# Q 26\n",
    "import re\n",
    "\n",
    "def find_substrings(text, pattern):\n",
    "    matches = re.findall(pattern, text) \n",
    "    return matches \n",
    "text = 'Python exercises, PHP exercises, C# exercises'\n",
    "pattern = 'exercises'\n",
    "print(find_substrings(text, pattern)) "
   ]
  },
  {
   "cell_type": "code",
   "execution_count": 83,
   "metadata": {},
   "outputs": [
    {
     "name": "stdout",
     "output_type": "stream",
     "text": [
      "First occurrence of 'gram' is at index 21\n",
      "Next occurrence of 'gram' is at index -1\n",
      "Occurrence of 'gram' in slice [10:20] is at index -1\n"
     ]
    }
   ],
   "source": [
    "# 27\n",
    "text = \"Python is a great programming language\"\n",
    "sub = \"gram\"\n",
    "index = text.find(sub)\n",
    "print(f\"First occurrence of '{sub}' is at index {index}\")\n",
    "\n",
    "index = text.find(sub, index + 1)\n",
    "print(f\"Next occurrence of '{sub}' is at index {index}\")\n",
    "\n",
    "index = text.find(sub, 10, 20)\n",
    "print(f\"Occurrence of '{sub}' in slice [10:20] is at index {index}\")\n",
    "\n"
   ]
  },
  {
   "cell_type": "code",
   "execution_count": 82,
   "metadata": {},
   "outputs": [
    {
     "name": "stdout",
     "output_type": "stream",
     "text": [
      "Python_Exercise\n",
      "Python Exercise\n"
     ]
    }
   ],
   "source": [
    "#Q 28\n",
    "import re\n",
    "text=\"Python Exercise\"\n",
    "text=text.replace(\" \",\"_\")\n",
    "print(text)\n",
    "text=text.replace(\"_\",\" \")\n",
    "print(text)"
   ]
  },
  {
   "cell_type": "code",
   "execution_count": 81,
   "metadata": {},
   "outputs": [
    {
     "name": "stdout",
     "output_type": "stream",
     "text": [
      "Year:2023,Month:12,Day:15\n"
     ]
    }
   ],
   "source": [
    "#Q 29\n",
    "from urllib.parse import urlparse,parse_qs\n",
    "url=\"https://example.com/news?year=2023&month=12&day=15\"\n",
    "parsed_url=urlparse(url)\n",
    "query_params=parse_qs(parsed_url.query)\n",
    "year=query_params.get('year',[''])[0]\n",
    "month=query_params.get('month',[''])[0]\n",
    "day=query_params.get('day',[''])[0]\n",
    "print(f\"Year:{year},Month:{month},Day:{day}\")"
   ]
  },
  {
   "cell_type": "code",
   "execution_count": 79,
   "metadata": {},
   "outputs": [
    {
     "name": "stdout",
     "output_type": "stream",
     "text": [
      "original date:2002-19-12\n",
      "converted date:12-19-2002\n"
     ]
    }
   ],
   "source": [
    "#Q 30\n",
    "from datetime import date\n",
    "def convert_date(input_date):\n",
    "    year,month,day=input_date.split('-')\n",
    "    output_date=f\"{day}-{month}-{year}\"\n",
    "    return output_date\n",
    "input_date=\"2002-19-12\"\n",
    "converted_date=convert_date(input_date)\n",
    "print(f\"original date:{input_date}\")\n",
    "print(f\"converted date:{converted_date}\")"
   ]
  },
  {
   "cell_type": "code",
   "execution_count": null,
   "metadata": {},
   "outputs": [],
   "source": []
  }
 ],
 "metadata": {
  "kernelspec": {
   "display_name": "Python 3",
   "language": "python",
   "name": "python3"
  },
  "language_info": {
   "codemirror_mode": {
    "name": "ipython",
    "version": 3
   },
   "file_extension": ".py",
   "mimetype": "text/x-python",
   "name": "python",
   "nbconvert_exporter": "python",
   "pygments_lexer": "ipython3",
   "version": "3.8.5"
  }
 },
 "nbformat": 4,
 "nbformat_minor": 4
}
