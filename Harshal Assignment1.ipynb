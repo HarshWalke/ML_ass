{
 "cells": [
  {
   "cell_type": "code",
   "execution_count": 3,
   "metadata": {},
   "outputs": [
    {
     "name": "stdout",
     "output_type": "stream",
     "text": [
      "The First 10 Natural Numbers\n",
      "1\n",
      "2\n",
      "3\n",
      "4\n",
      "5\n",
      "6\n",
      "7\n",
      "8\n",
      "9\n"
     ]
    }
   ],
   "source": [
    "#1\n",
    "print(\"The First 10 Natural Numbers\")\n",
    "i = 0\n",
    "\n",
    "while i < 9:\n",
    "    i=i+1\n",
    "    print(i)\n",
    "\n"
   ]
  },
  {
   "cell_type": "code",
   "execution_count": 22,
   "metadata": {},
   "outputs": [
    {
     "name": "stdout",
     "output_type": "stream",
     "text": [
      "  1 1 1 1 \n",
      "    1 1 1 \n",
      "      1 1 \n",
      "        1 \n"
     ]
    }
   ],
   "source": [
    "#2\n",
    "n=4\n",
    "for i in range(n):\n",
    "    for j in range(i+1):\n",
    "        print(\" \",end=\" \")\n",
    "    for j in range(i,n):\n",
    "        print(\"1\",end=\" \")\n",
    "    print()\n",
    "    \n"
   ]
  },
  {
   "cell_type": "code",
   "execution_count": 24,
   "metadata": {},
   "outputs": [
    {
     "name": "stdout",
     "output_type": "stream",
     "text": [
      "Number: 5\n",
      "15\n"
     ]
    }
   ],
   "source": [
    "#3\n",
    "n = int(input(\"Number: \"))\n",
    "sum = 0\n",
    "for i in range(1, n + 1):\n",
    "    sum +=i\n",
    "print(sum)"
   ]
  },
  {
   "cell_type": "code",
   "execution_count": 25,
   "metadata": {},
   "outputs": [
    {
     "name": "stdout",
     "output_type": "stream",
     "text": [
      "Display multiplication table of? 7\n",
      "7 x 1 = 7\n",
      "7 x 2 = 14\n",
      "7 x 3 = 21\n",
      "7 x 4 = 28\n",
      "7 x 5 = 35\n",
      "7 x 6 = 42\n",
      "7 x 7 = 49\n",
      "7 x 8 = 56\n",
      "7 x 9 = 63\n",
      "7 x 10 = 70\n"
     ]
    }
   ],
   "source": [
    "#4\n",
    "num = int(input(\"enter number \"))\n",
    "for i in range(1, 11):\n",
    "   print(num, 'x', i, '=', num*i)\n"
   ]
  },
  {
   "cell_type": "code",
   "execution_count": 26,
   "metadata": {},
   "outputs": [
    {
     "name": "stdout",
     "output_type": "stream",
     "text": [
      "1\n",
      "5\n",
      "7\n",
      "9\n",
      "33\n"
     ]
    }
   ],
   "source": [
    "#5\n",
    "a=[1,5,7,9,33]\n",
    "for i in a:\n",
    "    print(i)"
   ]
  },
  {
   "cell_type": "code",
   "execution_count": 27,
   "metadata": {},
   "outputs": [
    {
     "name": "stdout",
     "output_type": "stream",
     "text": [
      "number:6\n",
      "total number of digits: 1\n"
     ]
    }
   ],
   "source": [
    "6\n",
    "count = 0\n",
    "n = (input(\"number:\"))\n",
    "print('total number of digits:',len(n))"
   ]
  },
  {
   "cell_type": "code",
   "execution_count": 7,
   "metadata": {},
   "outputs": [
    {
     "name": "stdout",
     "output_type": "stream",
     "text": [
      "     \n",
      "     *\n",
      "    * *\n",
      "   * * *\n",
      "  * * * *\n",
      " * * * * *\n",
      "  * * * *\n",
      "   * * *\n",
      "    * *\n",
      "     *\n",
      "\n"
     ]
    }
   ],
   "source": [
    "#7\n",
    "n = 5\n",
    "for i in range(n+1):\n",
    "         print((n-i)*(\" \")+(i*' *'))\n",
    "for i in range((n-1),0,-1):\n",
    "        print((n-i)*(\" \")+(i*' *'))\n",
    "print()"
   ]
  },
  {
   "cell_type": "code",
   "execution_count": 28,
   "metadata": {},
   "outputs": [
    {
     "name": "stdout",
     "output_type": "stream",
     "text": [
      "11 26 9 7 5 1 "
     ]
    }
   ],
   "source": [
    "#8\n",
    "l=[1,5,7,9,26,11]\n",
    "for n in reversed (l):\n",
    " print(n,end=' ')"
   ]
  },
  {
   "cell_type": "code",
   "execution_count": 9,
   "metadata": {},
   "outputs": [
    {
     "name": "stdout",
     "output_type": "stream",
     "text": [
      "-10 -9 -8 -7 -6 -5 -4 -3 -2 -1 "
     ]
    }
   ],
   "source": [
    "#9\n",
    "for i in range (10,0,-1):\n",
    " print(-i,end=' ')   "
   ]
  },
  {
   "cell_type": "code",
   "execution_count": 10,
   "metadata": {},
   "outputs": [
    {
     "name": "stdout",
     "output_type": "stream",
     "text": [
      "2\n",
      "4\n",
      "6\n",
      "8\n",
      "done "
     ]
    }
   ],
   "source": [
    "#10\n",
    "for k in range(1,9,2):\n",
    " print(k+1)\n",
    "else:\n",
    " print(\"done\",end=' ')\n"
   ]
  },
  {
   "cell_type": "code",
   "execution_count": 11,
   "metadata": {},
   "outputs": [
    {
     "name": "stdout",
     "output_type": "stream",
     "text": [
      "2\n",
      "3\n",
      "5\n",
      "7\n",
      "11\n",
      "13\n"
     ]
    }
   ],
   "source": [
    "#11\n",
    "a = 1\n",
    "b = 15\n",
    "\n",
    "for num in range(a, b + 1):\n",
    "    if num > 1: \n",
    "        for i in range(2,num):\n",
    "            if (num % i) == 0:\n",
    "                break\n",
    "        else:     \n",
    "         print(num)"
   ]
  },
  {
   "cell_type": "code",
   "execution_count": 12,
   "metadata": {},
   "outputs": [
    {
     "name": "stdout",
     "output_type": "stream",
     "text": [
      "0 1 1 2 3 5 8 13 21 34 55 89 144 233 377 "
     ]
    }
   ],
   "source": [
    "#12\n",
    "x = 10\n",
    "n1,n2 = 0,1\n",
    "sum = 0\n",
    "if (x<=0):\n",
    "    print('Enter number greater than 0')\n",
    "else:\n",
    "    for i in range(0,num):\n",
    "        print(sum,end=' ')\n",
    "        n1 = n2\n",
    "        n2 = sum\n",
    "        sum = n1 + n2"
   ]
  },
  {
   "cell_type": "code",
   "execution_count": 13,
   "metadata": {},
   "outputs": [
    {
     "name": "stdout",
     "output_type": "stream",
     "text": [
      "The factorial of given number is 720\n"
     ]
    }
   ],
   "source": [
    "#13\n",
    "def factorial(n):\n",
    "    if(n==0):\n",
    "     return 1\n",
    "    else:\n",
    "     return n*factorial(n-1)\n",
    "\n",
    "print(\"The factorial of given number is\",factorial(6))\n"
   ]
  },
  {
   "cell_type": "code",
   "execution_count": 14,
   "metadata": {},
   "outputs": [
    {
     "name": "stdout",
     "output_type": "stream",
     "text": [
      "Enter number:90876\n",
      "67809\n"
     ]
    }
   ],
   "source": [
    "#14\n",
    "i = int(input(\"Enter number:\"))\n",
    "rev=0\n",
    "while(i>0):\n",
    "    rev=(rev*10)+i%10\n",
    "    i=i//10\n",
    "print(rev)"
   ]
  },
  {
   "cell_type": "code",
   "execution_count": 15,
   "metadata": {},
   "outputs": [
    {
     "name": "stdout",
     "output_type": "stream",
     "text": [
      "1 57 84 "
     ]
    }
   ],
   "source": [
    "# 15\n",
    "list = [2,1,45,57,64,84,76]\n",
    "for i in range(len(list)):\n",
    "    if(not(i%2) == 0):\n",
    "        print(list[i],end=' ')"
   ]
  },
  {
   "cell_type": "code",
   "execution_count": 29,
   "metadata": {},
   "outputs": [
    {
     "name": "stdout",
     "output_type": "stream",
     "text": [
      "[1, 8, 27, 64]\n"
     ]
    }
   ],
   "source": [
    "#16\n",
    "s=[1,2,3,4]\n",
    "cube=[]\n",
    "for i in s:\n",
    "    cube.append(i*i*i)\n",
    "print(cube)"
   ]
  },
  {
   "cell_type": "code",
   "execution_count": 18,
   "metadata": {},
   "outputs": [
    {
     "name": "stdout",
     "output_type": "stream",
     "text": [
      "Enter the n terms:5\n",
      "3\n",
      "3\n",
      "33\n",
      "36\n",
      "333\n",
      "369\n",
      "3333\n",
      "3702\n",
      "33333\n",
      "37035\n"
     ]
    }
   ],
   "source": [
    "#17\n",
    "num = int(input(\"Enter the n terms:\"))\n",
    "a = 3\n",
    "sum_series = 0\n",
    "for i in range(0,num):\n",
    "    print(a)\n",
    "    sum_series+=a\n",
    "    a=a*10+3\n",
    "    print(sum_series)"
   ]
  },
  {
   "cell_type": "code",
   "execution_count": 19,
   "metadata": {},
   "outputs": [
    {
     "name": "stdout",
     "output_type": "stream",
     "text": [
      "1 \n",
      "1 2 \n",
      "1 2 3 \n",
      "1 2 3 4 \n",
      "1 2 3 4 5 \n"
     ]
    }
   ],
   "source": [
    "#18\n",
    "n=5\n",
    "for x in range(1,n+1):\n",
    "    for y in range(1,x+1):\n",
    "      print(y,end=' ')\n",
    "    print()"
   ]
  },
  {
   "cell_type": "code",
   "execution_count": null,
   "metadata": {},
   "outputs": [],
   "source": []
  }
 ],
 "metadata": {
  "kernelspec": {
   "display_name": "Python 3",
   "language": "python",
   "name": "python3"
  },
  "language_info": {
   "codemirror_mode": {
    "name": "ipython",
    "version": 3
   },
   "file_extension": ".py",
   "mimetype": "text/x-python",
   "name": "python",
   "nbconvert_exporter": "python",
   "pygments_lexer": "ipython3",
   "version": "3.8.5"
  }
 },
 "nbformat": 4,
 "nbformat_minor": 5
}
